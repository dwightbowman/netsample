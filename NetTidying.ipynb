{
    "nbformat_minor": 0, 
    "cells": [
        {
            "metadata": {
                "collapsed": true
            }, 
            "source": "", 
            "execution_count": null, 
            "cell_type": "code", 
            "outputs": []
        }
    ], 
    "nbformat": 4, 
    "metadata": {
        "kernelspec": {
            "name": "r-spark21", 
            "language": "R"
        }
    }
}