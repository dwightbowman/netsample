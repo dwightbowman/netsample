{
    "nbformat_minor": 1, 
    "cells": [
        {
            "metadata": {}, 
            "source": "# The code was removed by DSX for sharing.", 
            "execution_count": 1, 
            "cell_type": "code", 
            "outputs": []
        }, 
        {
            "metadata": {}, 
            "source": "if(!require(devtools)){\n    install.packages(\"devtools\")\n    library(devtools)}", 
            "execution_count": 2, 
            "cell_type": "code", 
            "outputs": [
                {
                    "name": "stderr", 
                    "text": "Loading required package: devtools\n", 
                    "output_type": "stream"
                }
            ]
        }, 
        {
            "metadata": {}, 
            "source": "install_github(\"IBMDataScience/objectStoreR\")", 
            "execution_count": 3, 
            "cell_type": "code", 
            "outputs": [
                {
                    "name": "stderr", 
                    "text": "Skipping install for github remote, the SHA1 (d6a07c5b) has not changed since last install.\n  Use `force = TRUE` to force installation\n", 
                    "output_type": "stream"
                }
            ]
        }, 
        {
            "metadata": {}, 
            "source": "library('objectStoreR')", 
            "execution_count": 4, 
            "cell_type": "code", 
            "outputs": []
        }, 
        {
            "metadata": {}, 
            "source": "sampleData <- objectStore.get(credentials.1", 
            "execution_count": 7, 
            "cell_type": "code", 
            "outputs": [
                {
                    "evalue": "Error in curl::curl_fetch_memory(url, handle = handle): Failed connect to NULL:80; Connection refused\n", 
                    "ename": "ERROR", 
                    "traceback": [
                        "Error in curl::curl_fetch_memory(url, handle = handle): Failed connect to NULL:80; Connection refused\nTraceback:\n", 
                        "1. objectStore.get(credentials.1)", 
                        "2. httr::POST(url = url_1, body = make_json(creds), httr::add_headers(`Content-Type` = \"application/json\"), \n .     httr::verbose())", 
                        "3. request_perform(req, hu$handle$handle)", 
                        "4. request_fetch(req$output, req$url, handle)", 
                        "5. request_fetch.write_memory(req$output, req$url, handle)", 
                        "6. curl::curl_fetch_memory(url, handle = handle)"
                    ], 
                    "output_type": "error"
                }
            ]
        }, 
        {
            "metadata": {}, 
            "source": "is.data.frame(sampleData)", 
            "execution_count": null, 
            "cell_type": "code", 
            "outputs": []
        }, 
        {
            "metadata": {}, 
            "source": "", 
            "execution_count": null, 
            "cell_type": "code", 
            "outputs": []
        }
    ], 
    "nbformat": 4, 
    "metadata": {
        "kernelspec": {
            "name": "r-spark21", 
            "language": "R", 
            "display_name": "R with Spark 2.1"
        }, 
        "language_info": {
            "version": "3.3.2", 
            "name": "R", 
            "pygments_lexer": "r", 
            "mimetype": "text/x-r-source", 
            "codemirror_mode": "r", 
            "file_extension": ".r"
        }
    }
}