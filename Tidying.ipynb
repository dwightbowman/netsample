{
    "nbformat_minor": 1, 
    "cells": [
        {
            "metadata": {}, 
            "source": "# The code was removed by DSX for sharing.", 
            "execution_count": 1, 
            "cell_type": "code", 
            "outputs": []
        }, 
        {
            "metadata": {}, 
            "source": "if(!require(devtools)){\n    install.packages(\"devtools\")\n    library(devtools)}", 
            "execution_count": 2, 
            "cell_type": "code", 
            "outputs": [
                {
                    "name": "stderr", 
                    "text": "Loading required package: devtools\n", 
                    "output_type": "stream"
                }
            ]
        }, 
        {
            "metadata": {}, 
            "source": "install_github(\"IBMDataScience/objectStoreR\")", 
            "execution_count": null, 
            "cell_type": "code", 
            "outputs": []
        }, 
        {
            "metadata": {}, 
            "source": "library('objectStoreR')", 
            "execution_count": 3, 
            "cell_type": "code", 
            "outputs": [
                {
                    "evalue": "Error in library(\"objectStoreR\"): there is no package called \u2018objectStoreR\u2019\n", 
                    "ename": "ERROR", 
                    "traceback": [
                        "Error in library(\"objectStoreR\"): there is no package called \u2018objectStoreR\u2019\nTraceback:\n", 
                        "1. library(\"objectStoreR\")", 
                        "2. stop(txt, domain = NA)"
                    ], 
                    "output_type": "error"
                }
            ]
        }, 
        {
            "metadata": {}, 
            "source": "sampleData < - objectStore.get(credentials.1)", 
            "execution_count": 3, 
            "cell_type": "code", 
            "outputs": [
                {
                    "evalue": "Error in eval(expr, envir, enclos): could not find function \"objectStore.get\"\n", 
                    "ename": "ERROR", 
                    "traceback": [
                        "Error in eval(expr, envir, enclos): could not find function \"objectStore.get\"\nTraceback:\n"
                    ], 
                    "output_type": "error"
                }
            ]
        }, 
        {
            "metadata": {}, 
            "source": "is.data.frame(sampleData)", 
            "execution_count": 3, 
            "cell_type": "code", 
            "outputs": [
                {
                    "evalue": "Error in is.data.frame(sampleData): object 'sampleData' not found\n", 
                    "ename": "ERROR", 
                    "traceback": [
                        "Error in is.data.frame(sampleData): object 'sampleData' not found\nTraceback:\n", 
                        "1. is.data.frame(sampleData)"
                    ], 
                    "output_type": "error"
                }
            ]
        }
    ], 
    "nbformat": 4, 
    "metadata": {
        "kernelspec": {
            "name": "r-spark21", 
            "language": "R", 
            "display_name": "R with Spark 2.1"
        }, 
        "language_info": {
            "version": "3.3.2", 
            "name": "R", 
            "pygments_lexer": "r", 
            "mimetype": "text/x-r-source", 
            "codemirror_mode": "r", 
            "file_extension": ".r"
        }
    }
}